{
 "cells": [
  {
   "cell_type": "code",
   "execution_count": 1,
   "id": "bdc27663-92a7-46bb-84b8-cb020df1f81a",
   "metadata": {},
   "outputs": [],
   "source": [
    "import pandas as pd\n",
    "import numpy as np\n",
    "import matplotlib.pyplot as plt\n",
    "from sklearn.decomposition import PCA"
   ]
  },
  {
   "cell_type": "code",
   "execution_count": 2,
   "id": "e4f0acd8-7f15-4adf-a48b-d78d804300f7",
   "metadata": {},
   "outputs": [],
   "source": [
    "class WatermelonCluster(object):\n",
    "    def __init__(self, data, K):\n",
    "        self.data = data\n",
    "        self.K = K\n",
    "\n",
    "    @staticmethod\n",
    "    def mean(se_lst): # 就算均值的函数\n",
    "            se = [va[1] for va in se_lst]\n",
    "            df = pd.DataFrame(se)\n",
    "            ls = [df[col].mean() for col in df.columns]\n",
    "            return pd.Series(ls, index=df.columns)    \n",
    "            \n",
    "    def train(self):\n",
    "        count = 1\n",
    "        if not isinstance(self.data, pd.DataFrame): # 判断使用文件类型, 要求用DataFrame格式\n",
    "            self.data = pd.DataFrame(self.data)\n",
    " \n",
    "        np.random.seed(7)\n",
    "        lst = [np.random.randint(len(self.data)) for i in range(self.K)] # 随机选取 K 个样本序列号\n",
    "        self.output_lst = [i for i in range(len(self.data))] # 最终输出列表\n",
    "        U = [self.data.iloc[s] for s in lst] # 给U赋予几个初始值\n",
    "        judge = [[]] * self.K  # 建立簇合集\n",
    "        judge_shadow = [[1]] * self.K # 存储旧的簇合集\n",
    "        while judge != judge_shadow: # 当簇不在变化时，循环停止\n",
    "            print(\"正在进行第{}轮train\".format(count))\n",
    "            judge_shadow = judge\n",
    "            self.fina_lst = [[] for l in range(self.K)] # 根据 K 值设置几个簇列表，簇序号0，1，2，...，K-1\n",
    "            judge = [[] for l in range(self.K)]\n",
    "            for ind in range(len(self.data)):\n",
    "                dis_lst = [] # 存放distance，用来计算最小值\n",
    "                for u in U:\n",
    "                    dif = self.data.iloc[ind] - u\n",
    "                    dis = pow(sum(pow(dif,2)), 0.5) # 计算距离\n",
    "                    dis_lst.append(dis)\n",
    "                C = dis_lst.index(min(dis_lst)) # 返回最小值索引\n",
    "                self.fina_lst[C].append((ind, self.data.iloc[ind])) # 根据索引存放在第 C 簇\n",
    "                judge[C].append(ind)\n",
    "            U = [WatermelonCluster.mean(self.fina_lst[j]) for j in range(len(self.fina_lst))] # 更新U进行迭代\n",
    "            count += 1\n",
    "        for cluster in range(len(self.fina_lst)): # 输出每个样本的所属簇\n",
    "            datas = self.fina_lst[cluster] # 每一个簇\n",
    "            for indx in datas:\n",
    "                self.output_lst[indx[0]] = cluster\n",
    "        \n",
    "    def plot_cluster(self):\n",
    "        pca = PCA(n_components=2)   #降低成两维绘图 \n",
    "        newData = pca.fit_transform(self.data)  \n",
    "        x = [n[0] for n in newData]  \n",
    "        y = [n[1] for n in newData]\n",
    "        plt.scatter(x, y, c=self.output_lst, s=50, marker='o')  \n",
    "        plt.title(\"Kmeans\")    \n",
    "        plt.xlabel(\"x\")  \n",
    "        plt.ylabel(\"y\")    \n",
    "        plt.show()"
   ]
  },
  {
   "cell_type": "code",
   "execution_count": 3,
   "id": "3f100eda-c0e2-4539-920f-0a4266ad444c",
   "metadata": {},
   "outputs": [],
   "source": [
    "data = pd.read_excel('cluster.xlsx')"
   ]
  },
  {
   "cell_type": "code",
   "execution_count": 4,
   "id": "3721ef73-cec7-4ef3-81df-427117984a3c",
   "metadata": {},
   "outputs": [],
   "source": [
    "cluster = WatermelonCluster(data, 3)"
   ]
  },
  {
   "cell_type": "code",
   "execution_count": 5,
   "id": "aa94052f-21ef-4053-91db-d970f714b6e6",
   "metadata": {},
   "outputs": [
    {
     "name": "stdout",
     "output_type": "stream",
     "text": [
      "正在进行第1轮train\n",
      "正在进行第2轮train\n",
      "正在进行第3轮train\n",
      "正在进行第4轮train\n",
      "正在进行第5轮train\n",
      "正在进行第6轮train\n",
      "正在进行第7轮train\n",
      "正在进行第8轮train\n",
      "正在进行第9轮train\n"
     ]
    }
   ],
   "source": [
    "cluster.train()"
   ]
  },
  {
   "cell_type": "code",
   "execution_count": 6,
   "id": "27a930e4-b881-4cef-acd8-d27fefacc464",
   "metadata": {},
   "outputs": [
    {
     "data": {
      "image/png": "[encoded data removed]",
      "text/plain": [
       "<Figure size 640x480 with 1 Axes>"
      ]
     },
     "metadata": {},
     "output_type": "display_data"
    }
   ],
   "source": [
    "cluster.plot_cluster()"
   ]
  }
 ],
 "metadata": {
  "kernelspec": {
   "display_name": "Python 3 (ipykernel)",
   "language": "python",
   "name": "python3"
  },
  "language_info": {
   "codemirror_mode": {
    "name": "ipython",
    "version": 3
   },
   "file_extension": ".py",
   "mimetype": "text/x-python",
   "name": "python",
   "nbconvert_exporter": "python",
   "pygments_lexer": "ipython3",
   "version": "3.12.7"
  }
 },
 "nbformat": 4,
 "nbformat_minor": 5
}
