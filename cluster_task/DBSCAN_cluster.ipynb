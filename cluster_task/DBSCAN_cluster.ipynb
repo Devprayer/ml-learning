{
 "cells": [
  {
   "cell_type": "code",
   "execution_count": 1,
   "id": "ea9b9fec-981d-4dc2-9a23-d2488d28b803",
   "metadata": {},
   "outputs": [],
   "source": [
    "import pandas as pd\n",
    "import matplotlib.pyplot as plt\n",
    "import random\n",
    "from sklearn.decomposition import PCA"
   ]
  },
  {
   "cell_type": "code",
   "execution_count": 2,
   "id": "085f9cfc-f93b-468b-a574-9b232274d7eb",
   "metadata": {},
   "outputs": [],
   "source": [
    "class DBCluster(object):\n",
    "    def __init__(self, data, e, minpts):\n",
    "        if not isinstance(data, pd.DataFrame):\n",
    "            self.data = pd.DataFrame(data)\n",
    "        else:\n",
    "            self.data = data\n",
    "        self.e = e\n",
    "        self.minpts = minpts\n",
    "        self.keyset = set() # 核心对象集合\n",
    "        self.datadict = {} # 储存 Xi 的 小于等于 e 的点\n",
    "        for i in range(len(self.data)):\n",
    "            temp_set = set() # 储存 xi 的在距离小于等于 e 的点\n",
    "            for j in range(len(self.data)):\n",
    "                dif = self.data.iloc[i] - self.data.iloc[j]\n",
    "                dis = pow(sum(pow(dif,2)), 0.5) # 计算距离\n",
    "                if dis <= self.e:\n",
    "                    temp_set.add(j)\n",
    "            self.datadict[i] = temp_set\n",
    "            if len(temp_set) >= self.minpts:\n",
    "                self.keyset.add(i)\n",
    "\n",
    "    def train(self):\n",
    "        k = 0\n",
    "        F = set(self.datadict.keys()) # 没访问过的样本\n",
    "        total = F.copy()\n",
    "        C = {}\n",
    "        self.output = [0 for i in range(len(self.data))]\n",
    "        while len(self.keyset) != 0 :\n",
    "            F_old = F.copy() # 记录当前没访问过的样本\n",
    "            x_list = random.sample(list(self.keyset), 1) # 从 Ω 中随机选一个样本列表\n",
    "            F.discard(x_list[0])\n",
    "            for x in x_list:\n",
    "                if len(self.datadict[x]) >= self.minpts:\n",
    "                    delta = F & self.datadict[x]\n",
    "                    x_list.extend(list(delta))\n",
    "                    F = F - delta\n",
    "            k += 1\n",
    "            C[k] = F_old - F\n",
    "            self.keyset = self.keyset - C[k]\n",
    "            print(\"=====================正在进行第{}轮训练==========================\".format(k))\n",
    "            for s in C[k]:\n",
    "                self.output[s] = k\n",
    "        self.noise = F\n",
    "        self.rightdata = total - F\n",
    "    \n",
    "    def DB_plot(self):\n",
    "        pca = PCA(n_components=2)   #降低成两维绘图 \n",
    "        newData = pca.fit_transform(self.data)\n",
    "        df = pd.DataFrame(newData)\n",
    "        s1 = pd.Series(self.output, name=\"color\")\n",
    "        result = pd.concat([df, s1], axis=1)\n",
    "        rc = list(self.rightdata)\n",
    "        x = [n[1][0] for n in result.iloc[rc].iterrows()]  \n",
    "        y = [n[1][1] for n in result.iloc[rc].iterrows()]\n",
    "        color_right = [n[1][\"color\"] for n in result.iloc[rc].iterrows()]\n",
    "        plt.scatter(x, y, c=color_right, s=50, marker='o')\n",
    "        \n",
    "        nc = list(self.noise)\n",
    "        z = [n[1][0] for n in result.iloc[nc].iterrows()]  \n",
    "        t = [n[1][1] for n in result.iloc[nc].iterrows()]\n",
    "        color_noise = [n[1][\"color\"] for n in result.iloc[nc].iterrows()]\n",
    "        plt.scatter(z, t, c=color_noise, s=50, marker='x')\n",
    "        plt.title(\"DBSCAN\")    \n",
    "        plt.xlabel(\"x\")  \n",
    "        plt.ylabel(\"y\")    \n",
    "        plt.show()\n"
   ]
  },
  {
   "cell_type": "code",
   "execution_count": 3,
   "id": "0d6bcffe-83a5-4224-ac43-59040ac7ad6c",
   "metadata": {},
   "outputs": [],
   "source": [
    "random.seed(7) # 设置随机种子"
   ]
  },
  {
   "cell_type": "code",
   "execution_count": 4,
   "id": "13f851d7-24f1-46c4-954a-c69092f4f922",
   "metadata": {},
   "outputs": [],
   "source": [
    "data = pd.read_excel(\"cluster.xlsx\") # 读取数据"
   ]
  },
  {
   "cell_type": "code",
   "execution_count": 5,
   "id": "1c6d8732-963e-43f4-8579-ea76d178ee4f",
   "metadata": {},
   "outputs": [],
   "source": [
    "dbcluster = DBCluster(data,0.11,5) # 实例化类"
   ]
  },
  {
   "cell_type": "code",
   "execution_count": 6,
   "id": "afde0cb2-57fb-4779-b49f-cd92ad894595",
   "metadata": {},
   "outputs": [
    {
     "name": "stdout",
     "output_type": "stream",
     "text": [
      "=====================正在进行第1轮训练==========================\n",
      "=====================正在进行第2轮训练==========================\n",
      "=====================正在进行第3轮训练==========================\n",
      "=====================正在进行第4轮训练==========================\n"
     ]
    }
   ],
   "source": [
    "dbcluster.train() # 训练类"
   ]
  },
  {
   "cell_type": "code",
   "execution_count": 7,
   "id": "a7313719-175a-49f0-b15c-57984ca453d9",
   "metadata": {},
   "outputs": [
    {
     "data": {
      "image/png": "[encoded data removed]",
      "text/plain": [
       "<Figure size 640x480 with 1 Axes>"
      ]
     },
     "metadata": {},
     "output_type": "display_data"
    }
   ],
   "source": [
    "dbcluster.DB_plot() # 画图"
   ]
  }
 ],
 "metadata": {
  "kernelspec": {
   "display_name": "Python 3 (ipykernel)",
   "language": "python",
   "name": "python3"
  },
  "language_info": {
   "codemirror_mode": {
    "name": "ipython",
    "version": 3
   },
   "file_extension": ".py",
   "mimetype": "text/x-python",
   "name": "python",
   "nbconvert_exporter": "python",
   "pygments_lexer": "ipython3",
   "version": "3.12.7"
  }
 },
 "nbformat": 4,
 "nbformat_minor": 5
}
