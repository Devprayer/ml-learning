{
 "cells": [
  {
   "cell_type": "code",
   "execution_count": 1,
   "id": "8f092e02-7237-459a-8e7e-156df633f498",
   "metadata": {},
   "outputs": [],
   "source": [
    "import pandas as pd\n",
    "import numpy as np\n",
    "import matplotlib.pyplot as plt\n",
    "from sklearn.decomposition import PCA"
   ]
  },
  {
   "cell_type": "code",
   "execution_count": 2,
   "id": "f780d05e-f893-4768-90a5-1449a309dcbc",
   "metadata": {},
   "outputs": [],
   "source": [
    "class Agnes(object):\n",
    "    def __init__(self, data, k):\n",
    "        if not isinstance(data, pd.DataFrame): # restrict the format of data\n",
    "            self.data = pd.DataFrame(data)\n",
    "        else:\n",
    "            self.data = data\n",
    "        self.k = k # number of clusters\n",
    "        self.m = len(self.data) # number of examples\n",
    "        \n",
    "        # initialize a culster dict, each example is a cluster\n",
    "        self.datadict = {}\n",
    "        for i in range(self.m):\n",
    "            self.datadict[i] = {i}\n",
    "        \n",
    "        # initialize the cluster-distance matrix\n",
    "        self.M = [[np.inf for i in range(self.m)] for j in range(self.m)]\n",
    "        for i in range(len(self.data)):\n",
    "            for j in range(i+1, len(self.data)):\n",
    "                dis = pow(sum(pow(self.data.iloc[i] - self.data.iloc[j], 2)), 0.5) # calculate distance\n",
    "                self.M[i][j] = dis\n",
    "                self.M[j][i] = dis\n",
    "\n",
    "    # define a function to calculate the distance between cluster\n",
    "    @staticmethod\n",
    "    def distance(set1, set2, row_data): \n",
    "        dis = []\n",
    "        for i in set1:\n",
    "            for j in set2:\n",
    "                if i == j:\n",
    "                    dist = np.inf\n",
    "                else:\n",
    "                    dist = pow(sum(pow(row_data.iloc[i] - row_data.iloc[j],2)), 0.5) # 计算距离\n",
    "                dis.append(dist)\n",
    "        return max(dis)\n",
    "\n",
    "    def train(self):\n",
    "        q = self.m\n",
    "        self.matrix = pd.DataFrame(self.M)\n",
    "        self.output = [0 for i in range(self.m)] # define a color list\n",
    "        while q > self.k:\n",
    "            if (self.m - q + 1 % 5) == 0:\n",
    "                print(\"===================正在进行第{}次训练=========================\".format(self.m - q + 1))\n",
    "            lse = self.matrix.idxmin()\n",
    "            temp = []\n",
    "            for i in lse.index:\n",
    "                temp.append(self.matrix[i].min())\n",
    "            index = temp.index(min(temp))\n",
    "            column = lse[temp.index(min(temp))]\n",
    "            self.datadict[index] = self.datadict[index] | self.datadict[column]\n",
    "            # 更新簇列表\n",
    "            if column != q-1:\n",
    "                for j in range(column, q-1):\n",
    "                    self.datadict[j] = self.datadict[j+1]\n",
    "                self.datadict.pop(q-1)\n",
    "            else:\n",
    "                self.datadict.pop(q-1)\n",
    "            # 更新距离矩阵            \n",
    "            self.matrix = self.matrix.drop(index=column, columns=column)\n",
    "            self.matrix.index=list(range(q-1))\n",
    "            self.matrix.columns=list(range(q-1))\n",
    "            for j in range(q-1):\n",
    "                self.matrix.iloc[index,j] = self.distance(self.datadict[index], self.datadict[j], self.data)\n",
    "                self.matrix.iloc[j, index] = self.matrix.iloc[index,j]   \n",
    "            # 更新簇数\n",
    "            q = q - 1\n",
    "        #输出颜色列表\n",
    "        for k,v in self.datadict.items(): \n",
    "            for s in v:\n",
    "                self.output[s] = k\n",
    "            \n",
    "    def ag_plot(self):\n",
    "        pca = PCA(n_components=2)   #降低成两维绘图 \n",
    "        newData = pca.fit_transform(self.data)  \n",
    "        x = [n[0] for n in newData]  \n",
    "        y = [n[1] for n in newData]\n",
    "        plt.scatter(x, y, c=self.output, s=50, marker='o')  \n",
    "        plt.title(\"AGNES\")    \n",
    "        plt.xlabel(\"x\")  \n",
    "        plt.ylabel(\"y\")    \n",
    "        plt.show()"
   ]
  },
  {
   "cell_type": "code",
   "execution_count": 3,
   "id": "9b042037-a394-4099-9576-94c948859c50",
   "metadata": {},
   "outputs": [],
   "source": [
    "data = pd.read_excel(\"cluster.xlsx\")"
   ]
  },
  {
   "cell_type": "code",
   "execution_count": 4,
   "id": "0ce1c16d-f5b0-43d6-b60e-d8184b4b4049",
   "metadata": {},
   "outputs": [],
   "source": [
    "ag = Agnes(data, 4)"
   ]
  },
  {
   "cell_type": "code",
   "execution_count": 5,
   "id": "0c792603-d108-4094-ad95-82217a04c0b0",
   "metadata": {},
   "outputs": [],
   "source": [
    "ag.train()"
   ]
  },
  {
   "cell_type": "code",
   "execution_count": 6,
   "id": "c015db12-3e30-44a4-a3d2-01b42bb8340c",
   "metadata": {},
   "outputs": [
    {
     "data": {
      "image/png": "[encoded data removed]",
      "text/plain": [
       "<Figure size 640x480 with 1 Axes>"
      ]
     },
     "metadata": {},
     "output_type": "display_data"
    }
   ],
   "source": [
    "ag.ag_plot()"
   ]
  }
 ],
 "metadata": {
  "kernelspec": {
   "display_name": "Python 3 (ipykernel)",
   "language": "python",
   "name": "python3"
  },
  "language_info": {
   "codemirror_mode": {
    "name": "ipython",
    "version": 3
   },
   "file_extension": ".py",
   "mimetype": "text/x-python",
   "name": "python",
   "nbconvert_exporter": "python",
   "pygments_lexer": "ipython3",
   "version": "3.12.7"
  }
 },
 "nbformat": 4,
 "nbformat_minor": 5
}
