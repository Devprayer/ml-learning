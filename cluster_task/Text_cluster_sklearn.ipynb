{
 "cells": [
  {
   "cell_type": "markdown",
   "id": "9336477f-1b8d-4270-be31-e20996af1b16",
   "metadata": {},
   "source": [
    "### 中文分词及数据清洗"
   ]
  },
  {
   "cell_type": "code",
   "execution_count": 1,
   "id": "a4a21522-2ab7-40aa-8219-6d49cd89c8ff",
   "metadata": {},
   "outputs": [],
   "source": [
    "import jieba\n",
    "from sklearn.feature_extraction.text import CountVectorizer\n",
    "from sklearn.feature_extraction.text import TfidfTransformer\n",
    "from sklearn.cluster import KMeans\n",
    "from sklearn.decomposition import PCA\n",
    "import numpy as np  \n",
    "import matplotlib.pyplot as plt"
   ]
  },
  {
   "cell_type": "code",
   "execution_count": 2,
   "id": "6fb4c1e6-2968-488f-b854-b6e17d3bdf05",
   "metadata": {},
   "outputs": [],
   "source": [
    "class TextCluster(object):\n",
    "    def __init__(self, file_path, stop_words_path, K):\n",
    "        self.file_path = file_path\n",
    "        self.stop_words_path = stop_words_path\n",
    "        self.K = K\n",
    "        \n",
    "    def word_seg(self):\n",
    "        \"\"\"\n",
    "        中文分词和预处理\n",
    "        \"\"\"\n",
    "        stop_words = open(self.stop_words_path, 'r', encoding='utf8') # 读取停用词表格\n",
    "        stop_words_dict = dict.fromkeys(stop_words.read().split()) # 制作停用词字典\n",
    "        stop_words.close()\n",
    "        source = open(self.file_path, 'r', encoding='utf8') # 读取源文件\n",
    "        self.content = [] # 存放最终内容列表 \n",
    "        for line in source.read().split(): \n",
    "            seglist = jieba.lcut(line) # 中文分词\n",
    "            temp_txt = [word for word in seglist if word not in stop_words_dict]\n",
    "            output = ' '.join(temp_txt)\n",
    "            self.content.append(output)\n",
    "        else:\n",
    "            source.close()\n",
    "\n",
    "    def get_feature(self):\n",
    "        # 生成词频矩阵\n",
    "        vectorizer = CountVectorizer() \n",
    "        X = vectorizer.fit_transform(self.content)        \n",
    "        # 计算TF-IDF值\n",
    "        transformer = TfidfTransformer()  \n",
    "        tfidf = transformer.fit_transform(X)\n",
    "        self.weight = tfidf.toarray()\n",
    "        \n",
    "    def train(self):\n",
    "        pca1 = PCA(n_components=2)   #降低成两维绘图 \n",
    "        self.newData = pca1.fit_transform(self.weight)  \n",
    "        clf = KMeans(n_clusters=self.K)\n",
    "        self.y_pred = clf.fit_predict(self.newData)\n",
    "\n",
    "    def plot_cluster(self):\n",
    "        pca = PCA(n_components=2)   #降低成两维绘图 \n",
    "        newData = pca.fit_transform(self.weight)  \n",
    "        x = [n[0] for n in newData]  \n",
    "        y = [n[1] for n in newData]\n",
    "        plt.scatter(x, y, c=self.y_pred, s=100, marker='s')  \n",
    "        plt.title(\"Kmeans\")    \n",
    "        plt.xlabel(\"x\")  \n",
    "        plt.ylabel(\"y\")    \n",
    "        plt.show()"
   ]
  },
  {
   "cell_type": "code",
   "execution_count": 3,
   "id": "558f97cf-3e04-495d-be01-4011f6f2cee3",
   "metadata": {},
   "outputs": [],
   "source": [
    "corpus = TextCluster('test2.txt', 'stop_words.txt', 3)"
   ]
  },
  {
   "cell_type": "code",
   "execution_count": 4,
   "id": "434f7788-4829-48f2-9958-edd5376bb973",
   "metadata": {},
   "outputs": [
    {
     "name": "stderr",
     "output_type": "stream",
     "text": [
      "Building prefix dict from the default dictionary ...\n",
      "Loading model from cache C:\\Users\\liufu\\AppData\\Local\\Temp\\jieba.cache\n",
      "Loading model cost 0.352 seconds.\n",
      "Prefix dict has been built successfully.\n"
     ]
    }
   ],
   "source": [
    "corpus.word_seg()"
   ]
  },
  {
   "cell_type": "code",
   "execution_count": 5,
   "id": "75501e42-5e9a-4908-886c-6880d1676c3d",
   "metadata": {},
   "outputs": [
    {
     "name": "stdout",
     "output_type": "stream",
     "text": [
      "[[0.         0.         0.         ... 0.         0.         0.        ]\n",
      " [0.         0.         0.         ... 0.         0.         0.        ]\n",
      " [0.         0.         0.         ... 0.         0.         0.        ]\n",
      " ...\n",
      " [0.         0.         0.         ... 0.         0.         0.        ]\n",
      " [0.         0.         0.         ... 0.         0.         0.07181152]\n",
      " [0.         0.         0.         ... 0.         0.10666227 0.        ]]\n"
     ]
    }
   ],
   "source": [
    "corpus.get_feature()"
   ]
  },
  {
   "cell_type": "code",
   "execution_count": 6,
   "id": "493d4a3b-85e4-43a7-8d88-92e7475fb27f",
   "metadata": {},
   "outputs": [
    {
     "name": "stdout",
     "output_type": "stream",
     "text": [
      "[1 2 2 2 2 1 2 0 0 2 2 2 2 2 2 2 2 2 2 2 2]\n"
     ]
    },
    {
     "name": "stderr",
     "output_type": "stream",
     "text": [
      "D:\\anaconda\\Lib\\site-packages\\sklearn\\cluster\\_kmeans.py:1429: UserWarning: KMeans is known to have a memory leak on Windows with MKL, when there are less chunks than available threads. You can avoid it by setting the environment variable OMP_NUM_THREADS=1.\n",
      "  warnings.warn(\n"
     ]
    }
   ],
   "source": [
    "corpus.train()"
   ]
  },
  {
   "cell_type": "code",
   "execution_count": 7,
   "id": "14b8c504-0fcd-471e-9bdb-815727de666f",
   "metadata": {},
   "outputs": [
    {
     "data": {
      "image/png": "[encoded data removed]",
      "text/plain": [
       "<Figure size 640x480 with 1 Axes>"
      ]
     },
     "metadata": {},
     "output_type": "display_data"
    }
   ],
   "source": [
    "corpus.plot_cluster()"
   ]
  },
  {
   "cell_type": "code",
   "execution_count": 8,
   "id": "6fcf1db7-0f6c-4e6e-8442-8d210d0c71c3",
   "metadata": {},
   "outputs": [
    {
     "data": {
      "text/plain": [
       "array([[0.        , 0.        , 0.        , ..., 0.        , 0.        ,\n",
       "        0.        ],\n",
       "       [0.        , 0.        , 0.        , ..., 0.        , 0.        ,\n",
       "        0.        ],\n",
       "       [0.        , 0.        , 0.        , ..., 0.        , 0.        ,\n",
       "        0.        ],\n",
       "       ...,\n",
       "       [0.        , 0.        , 0.        , ..., 0.        , 0.        ,\n",
       "        0.        ],\n",
       "       [0.        , 0.        , 0.        , ..., 0.        , 0.        ,\n",
       "        0.07181152],\n",
       "       [0.        , 0.        , 0.        , ..., 0.        , 0.10666227,\n",
       "        0.        ]])"
      ]
     },
     "execution_count": 8,
     "metadata": {},
     "output_type": "execute_result"
    }
   ],
   "source": [
    "corpus.weight"
   ]
  }
 ],
 "metadata": {
  "kernelspec": {
   "display_name": "Python 3 (ipykernel)",
   "language": "python",
   "name": "python3"
  },
  "language_info": {
   "codemirror_mode": {
    "name": "ipython",
    "version": 3
   },
   "file_extension": ".py",
   "mimetype": "text/x-python",
   "name": "python",
   "nbconvert_exporter": "python",
   "pygments_lexer": "ipython3",
   "version": "3.12.7"
  }
 },
 "nbformat": 4,
 "nbformat_minor": 5
}
