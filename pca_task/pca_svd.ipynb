{
 "cells": [
  {
   "cell_type": "code",
   "execution_count": 1,
   "id": "cd1fa827-9fb0-4215-b409-dc33692df8be",
   "metadata": {},
   "outputs": [],
   "source": [
    "import pandas as pd\n",
    "import numpy as np"
   ]
  },
  {
   "cell_type": "code",
   "execution_count": 2,
   "id": "401f396c-0d9a-44bf-b750-5f22d2f8c2e9",
   "metadata": {},
   "outputs": [],
   "source": [
    "class PCA(object):\n",
    "    def __init__(self, data, n_component):\n",
    "        \"\"\"\n",
    "        传入的数据不必中心化与标准化，但是要以列为属性名\n",
    "        \"\"\"\n",
    "        if not isinstance(data, pd.DataFrame):\n",
    "            self.data = pd.DataFrame(data)\n",
    "        else:\n",
    "            self.data = data\n",
    "        self.n_component = n_component\n",
    "        self.y_matrix = None\n",
    "        self.df = None\n",
    "        self.S = None\n",
    "        self.V = None\n",
    "        self.var=None\n",
    "        \n",
    "    def pca(self):\n",
    "        self.data = self.data-np.mean(self.data, axis=0)# 列均值归0\n",
    "        self.df = 1/pow((len(self.data)-1),0.5) * self.data\n",
    "        self.var = [np.dot(self.df[x].T, self.df[x]) for x in self.df]\n",
    "        U, self.S, self.VT = np.linalg.svd(self.df)\n",
    "        self.y_matrix = np.dot(self.data, self.VT.T[:,:self.n_component])\n",
    "        return np.round(self.y_matrix, 2)\n",
    "\n",
    "    def y2x(self, xi):\n",
    "        vi = 0\n",
    "        for j in range(self.n_component):\n",
    "            vi = vi + pow(self.S[j], 2) * pow(self.VT.T[xi-1, j],2)\n",
    "        self.conrate = vi/self.var[xi-1]\n",
    "        print(\"主成分对原有变量X{}保留信息比例为{:.2f}%\".format(xi, 100*self.conrate))"
   ]
  },
  {
   "cell_type": "code",
   "execution_count": 3,
   "id": "5a28d3b8-0810-4f4a-8a64-60eb485f6ef1",
   "metadata": {},
   "outputs": [],
   "source": [
    "data = pd.read_excel(\"data.xlsx\").iloc[:,1:]"
   ]
  },
  {
   "cell_type": "code",
   "execution_count": 4,
   "id": "765b5085-c585-4c76-836f-703ce95eea0b",
   "metadata": {},
   "outputs": [],
   "source": [
    "gdp = PCA(data, 3)"
   ]
  },
  {
   "cell_type": "code",
   "execution_count": 5,
   "id": "8ad2c9e1-50ca-435e-8b50-77864e4d9a50",
   "metadata": {},
   "outputs": [
    {
     "data": {
      "text/plain": [
       "array([[-686.21, -161.69,  -10.08],\n",
       "       [-678.62,  -94.99,   41.76],\n",
       "       [-519.64,  -29.89,  -10.64],\n",
       "       [-465.25,   41.93,  -21.6 ],\n",
       "       [-358.52,   74.47,  -42.24],\n",
       "       [-102.18,  197.25,  -72.11],\n",
       "       [ 211.2 ,   76.84,  103.55],\n",
       "       [ 603.29,   29.45,  115.21],\n",
       "       [ 831.2 ,    9.67,  -38.72],\n",
       "       [1164.74, -143.05,  -65.13]])"
      ]
     },
     "execution_count": 5,
     "metadata": {},
     "output_type": "execute_result"
    }
   ],
   "source": [
    "gdp.pca()"
   ]
  },
  {
   "cell_type": "code",
   "execution_count": 6,
   "id": "fed635b6-1850-4b0d-baed-b597607aa25d",
   "metadata": {},
   "outputs": [
    {
     "name": "stdout",
     "output_type": "stream",
     "text": [
      "主成分对原有变量X1保留信息比例为99.93%\n",
      "主成分对原有变量X2保留信息比例为98.15%\n",
      "主成分对原有变量X3保留信息比例为84.12%\n",
      "主成分对原有变量X4保留信息比例为99.78%\n",
      "主成分对原有变量X5保留信息比例为99.27%\n",
      "主成分对原有变量X6保留信息比例为99.88%\n",
      "主成分对原有变量X7保留信息比例为98.58%\n",
      "主成分对原有变量X8保留信息比例为22.19%\n",
      "主成分对原有变量X1保留信息比例最大，为99.93%\n"
     ]
    }
   ],
   "source": [
    "v_list = []\n",
    "for i in range(1,9):\n",
    "    gdp.y2x(i)\n",
    "    v_list.append(gdp.conrate)\n",
    "print(\"主成分对原有变量X{}保留信息比例最大，为{:.2f}%\".format(1+v_list.index(max(v_list)), 100*max(v_list)))"
   ]
  }
 ],
 "metadata": {
  "kernelspec": {
   "display_name": "Python 3 (ipykernel)",
   "language": "python",
   "name": "python3"
  },
  "language_info": {
   "codemirror_mode": {
    "name": "ipython",
    "version": 3
   },
   "file_extension": ".py",
   "mimetype": "text/x-python",
   "name": "python",
   "nbconvert_exporter": "python",
   "pygments_lexer": "ipython3",
   "version": "3.12.7"
  }
 },
 "nbformat": 4,
 "nbformat_minor": 5
}
