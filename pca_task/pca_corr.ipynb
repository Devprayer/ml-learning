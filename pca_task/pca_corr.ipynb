{
 "cells": [
  {
   "cell_type": "code",
   "execution_count": 1,
   "id": "15760441-730b-483d-80fa-58c9415b9852",
   "metadata": {},
   "outputs": [],
   "source": [
    "import pandas as pd\n",
    "import numpy as np"
   ]
  },
  {
   "cell_type": "code",
   "execution_count": 2,
   "id": "a1a08359-c590-41d3-9453-203909bfef10",
   "metadata": {},
   "outputs": [],
   "source": [
    "class PCA(object):\n",
    "    def __init__(self, data, n_component, corr=True):\n",
    "        \"\"\"\n",
    "        传入的数据不必中心化与标准化，但是要以列为属性名\n",
    "        \"\"\"\n",
    "        if not isinstance(data, pd.DataFrame):\n",
    "            self.data = pd.DataFrame(data)\n",
    "        else:\n",
    "            self.data = data\n",
    "        self.n_component = n_component\n",
    "        self.corr = corr\n",
    "        self.y_matrix = None\n",
    "        self.conrate = None\n",
    "        self.cov = None\n",
    "        self.df = None\n",
    "\n",
    "    def pca(self):\n",
    "        if self.corr == True:\n",
    "            self.data = (self.data-np.mean(self.data, axis=0)) / np.std(self.data,axis=0,ddof=1)\n",
    "        else:\n",
    "            self.data = self.data-np.mean(self.data, axis=0)# 列均值归0     \n",
    "        self.cov = pd.DataFrame(np.cov(self.data.T))\n",
    "        eig = np.linalg.eig(self.cov)\n",
    "        eig_vector = pd.DataFrame(eig[1])\n",
    "        self.df = pd.concat([eig_vector.T, pd.DataFrame(eig[0], columns=['eig'])], axis=1)\n",
    "        tran_matrix = self.df.sort_values(by='eig',ascending=False).iloc[:self.n_component, :-1]\n",
    "        self.y_matrix = np.dot(self.data, tran_matrix.T)\n",
    "        return np.round(self.y_matrix, 2)\n",
    "\n",
    "    def y2x(self, xi):\n",
    "        vi = 0\n",
    "        for j in range(self.n_component):\n",
    "            vi = vi + self.df['eig'][j] * pow(self.df.iloc[j, xi-1],2)\n",
    "        self.conrate = vi/self.cov.iloc[xi-1,xi-1]\n",
    "        print(\"主成分对原有变量X{}保留信息比例为{:.2f}%\".format(xi, 100*self.conrate))"
   ]
  },
  {
   "cell_type": "code",
   "execution_count": 3,
   "id": "29d2bc07-0c25-4b00-bdd5-64f8e6fcb79f",
   "metadata": {},
   "outputs": [],
   "source": [
    "data = pd.read_excel(\"data.xlsx\").iloc[:,1:]"
   ]
  },
  {
   "cell_type": "code",
   "execution_count": 4,
   "id": "eb80751f-69d8-461f-b5ec-f13a41e9ff5f",
   "metadata": {},
   "outputs": [],
   "source": [
    "gdp = PCA(data, 3, corr=False)"
   ]
  },
  {
   "cell_type": "code",
   "execution_count": 5,
   "id": "6edf02b2-d635-46d8-b2f8-6170661d1914",
   "metadata": {},
   "outputs": [
    {
     "data": {
      "text/plain": [
       "array([[  686.21,  -161.69,   -10.08],\n",
       "       [  678.62,   -94.99,    41.76],\n",
       "       [  519.64,   -29.89,   -10.64],\n",
       "       [  465.25,    41.93,   -21.6 ],\n",
       "       [  358.52,    74.47,   -42.24],\n",
       "       [  102.18,   197.25,   -72.11],\n",
       "       [ -211.2 ,    76.84,   103.55],\n",
       "       [ -603.29,    29.45,   115.21],\n",
       "       [ -831.2 ,     9.67,   -38.72],\n",
       "       [-1164.74,  -143.05,   -65.13]])"
      ]
     },
     "execution_count": 5,
     "metadata": {},
     "output_type": "execute_result"
    }
   ],
   "source": [
    "gdp.pca()"
   ]
  },
  {
   "cell_type": "code",
   "execution_count": 6,
   "id": "264d340b-1c8c-45d7-860f-52c17f04b019",
   "metadata": {},
   "outputs": [
    {
     "name": "stdout",
     "output_type": "stream",
     "text": [
      "主成分对原有变量X1保留信息比例为99.93%\n",
      "主成分对原有变量X2保留信息比例为98.15%\n",
      "主成分对原有变量X3保留信息比例为84.12%\n",
      "主成分对原有变量X4保留信息比例为99.78%\n",
      "主成分对原有变量X5保留信息比例为99.27%\n",
      "主成分对原有变量X6保留信息比例为99.88%\n",
      "主成分对原有变量X7保留信息比例为98.58%\n",
      "主成分对原有变量X8保留信息比例为22.19%\n",
      "主成分对原有变量X1保留信息比例最大，为99.93%\n"
     ]
    }
   ],
   "source": [
    "v_list = []\n",
    "for i in range(1,9):\n",
    "    gdp.y2x(i)\n",
    "    v_list.append(gdp.conrate)\n",
    "print(\"主成分对原有变量X{}保留信息比例最大，为{:.2f}%\".format(1+v_list.index(max(v_list)), 100*max(v_list)))"
   ]
  },
  {
   "cell_type": "code",
   "execution_count": null,
   "id": "456b0722-959f-41d5-b808-19a3d51d0654",
   "metadata": {},
   "outputs": [],
   "source": []
  }
 ],
 "metadata": {
  "kernelspec": {
   "display_name": "Python 3 (ipykernel)",
   "language": "python",
   "name": "python3"
  },
  "language_info": {
   "codemirror_mode": {
    "name": "ipython",
    "version": 3
   },
   "file_extension": ".py",
   "mimetype": "text/x-python",
   "name": "python",
   "nbconvert_exporter": "python",
   "pygments_lexer": "ipython3",
   "version": "3.12.7"
  }
 },
 "nbformat": 4,
 "nbformat_minor": 5
}
