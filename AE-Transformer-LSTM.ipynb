{
 "cells": [
  {
   "cell_type": "markdown",
   "id": "71690e8f-8d59-4a7c-ae4f-6b352f9cd5a4",
   "metadata": {},
   "source": [
    "### Import package"
   ]
  },
  {
   "cell_type": "code",
   "execution_count": 1,
   "id": "02388096-6109-4592-bdf4-a65cb6ed9364",
   "metadata": {},
   "outputs": [
    {
     "name": "stdout",
     "output_type": "stream",
     "text": [
      "Using device: cuda\n"
     ]
    }
   ],
   "source": [
    "import torch\n",
    "import torch.nn as nn\n",
    "import torch.nn.functional as F\n",
    "import torch.optim as optim\n",
    "import numpy as np\n",
    "from torch.utils.data import DataLoader, TensorDataset\n",
    "import matplotlib.pyplot as plt\n",
    "import pandas as pd\n",
    "from sklearn.metrics import precision_score, recall_score, f1_score, accuracy_score\n",
    "from sklearn.metrics import confusion_matrix\n",
    "from sklearn.model_selection import train_test_split\n",
    "import math\n",
    "import random\n",
    "device = torch.device(\"cuda\" if torch.cuda.is_available() else \"cpu\")\n",
    "print(f\"Using device: {device}\")"
   ]
  },
  {
   "cell_type": "markdown",
   "id": "e74678f4-21ec-45a2-af72-7acdc7a96205",
   "metadata": {},
   "source": [
    "### Random Seed"
   ]
  },
  {
   "cell_type": "code",
   "execution_count": 2,
   "id": "9b72f572-d008-42d1-bc09-ff9d4e91e4c5",
   "metadata": {},
   "outputs": [],
   "source": [
    "def set_seeds(seed):\n",
    "    random.seed(seed)\n",
    "    np.random.seed(seed)\n",
    "    torch.manual_seed(seed)\n",
    "    torch.backends.cudnn.benchmark = False \n",
    "    torch.backends.cudnn.deterministic = True \n",
    "    if torch.cuda.is_available():\n",
    "        torch.cuda.manual_seed(seed)\n",
    "        torch.cuda.manual_seed_all(seed)\n",
    "set_seeds(7777)"
   ]
  },
  {
   "cell_type": "markdown",
   "id": "ad8e09fe-b4c5-4051-b44d-aa5b7ef290ed",
   "metadata": {},
   "source": [
    "### Kalman Filter"
   ]
  },
  {
   "cell_type": "code",
   "execution_count": 3,
   "id": "35770a94-60c3-4ff4-936d-f19d0177e37e",
   "metadata": {},
   "outputs": [],
   "source": [
    "def kalman_filter(z, Q=1e-4, R=0.01):\n",
    "    \"\"\"\n",
    "    对一维信号应用卡尔曼滤波\n",
    "    z: 观测值序列\n",
    "    Q: 过程噪声协方差\n",
    "    R: 测量噪声协方差\n",
    "    \"\"\"\n",
    "    n = len(z)\n",
    "    # 初始化\n",
    "    x_hat = np.zeros(n)  # 状态估计\n",
    "    P = np.zeros(n)  # 估计误差协方差\n",
    "    K = np.zeros(n)  # 卡尔曼增益\n",
    "    # 初始值\n",
    "    x_hat[0] = z[0]\n",
    "    P[0] = 1\n",
    "    # 卡尔曼滤波\n",
    "    for k in range(1, n):\n",
    "        # 预测\n",
    "        x_hat_minus = x_hat[k - 1]\n",
    "        P_minus = P[k - 1] + Q\n",
    "        # 更新\n",
    "        K[k] = P_minus / (P_minus + R)\n",
    "        x_hat[k] = x_hat_minus + K[k] * (z[k] - x_hat_minus)\n",
    "        P[k] = (1 - K[k]) * P_minus\n",
    "    return x_hat"
   ]
  },
  {
   "cell_type": "markdown",
   "id": "b2509514-0e35-459e-b4b8-8b1859a35c05",
   "metadata": {},
   "source": [
    "### Model"
   ]
  },
  {
   "cell_type": "code",
   "execution_count": 4,
   "id": "678c25e9-e1c0-4146-bf46-fd1d04444f78",
   "metadata": {},
   "outputs": [],
   "source": [
    "class PositionalEncoding(nn.Module):\n",
    "    def __init__(self, d_model, max_len=10000):\n",
    "        super().__init__()\n",
    "        pe = torch.zeros(max_len, d_model)\n",
    "        position = torch.arange(0, max_len).unsqueeze(1).float()\n",
    "        div_term = torch.exp(torch.arange(0, d_model, 2).float() * (-torch.log(torch.tensor(10000.0)) / d_model))\n",
    "        pe[:, 0::2] = torch.sin(position * div_term)\n",
    "        pe[:, 1::2] = torch.cos(position * div_term)\n",
    "        self.pe = pe.unsqueeze(0)  # [1, max_len, d_model]\n",
    "\n",
    "    def forward(self, x):\n",
    "        # x: [batch_size, seq_len, d_model]\n",
    "        seq_len = x.size(1)\n",
    "        return x + self.pe[:, :seq_len].to(x.device)\n",
    "\n",
    "class TimeStepAttention(nn.Module):\n",
    "    def __init__(self, max_len):\n",
    "        super().__init__()\n",
    "        self.alpha = nn.Parameter(torch.ones(max_len))  # [max_len]\n",
    "\n",
    "    def forward(self, x):\n",
    "        # x: [batch_size, seq_len, dim]\n",
    "        seq_len = x.size(1)\n",
    "        weight = self.alpha[:seq_len].unsqueeze(0).unsqueeze(2)  # [1, seq_len, 1]\n",
    "        return x * weight  # broadcasting\n",
    "\n",
    "class TransformerAutoencoderLSTM(nn.Module):\n",
    "    def __init__(self, input_dim, model_dim=128, num_heads=1, num_layers=1, ff_dim=256, lstm_hidden_dim=64, max_seq_len=10000):\n",
    "        super().__init__()\n",
    "        self.model_dim = model_dim\n",
    "        self.max_seq_len = max_seq_len\n",
    "\n",
    "        self.input_fc = nn.Linear(input_dim, model_dim)\n",
    "        self.pos_encoder = PositionalEncoding(model_dim, max_len=max_seq_len)\n",
    "\n",
    "        encoder_layer = nn.TransformerEncoderLayer(d_model=model_dim, nhead=num_heads, dim_feedforward=ff_dim, batch_first=True)\n",
    "        self.encoder = nn.TransformerEncoder(encoder_layer, num_layers=num_layers)\n",
    "\n",
    "        self.time_attention = TimeStepAttention(max_len=max_seq_len)\n",
    "\n",
    "        self.lstm = nn.LSTM(input_size=model_dim, hidden_size=lstm_hidden_dim, num_layers=1, batch_first=True)\n",
    "        self.lstm_to_model_dim = nn.Linear(lstm_hidden_dim, model_dim) if lstm_hidden_dim != model_dim else nn.Identity()\n",
    "\n",
    "        decoder_layer = nn.TransformerDecoderLayer(d_model=model_dim, nhead=num_heads, dim_feedforward=ff_dim, batch_first=True)\n",
    "        self.decoder = nn.TransformerDecoder(decoder_layer, num_layers=num_layers)\n",
    "\n",
    "        self.output_fc = nn.Linear(model_dim, input_dim)\n",
    "\n",
    "    def generate_causal_mask(self, size, device):\n",
    "        # [seq_len, seq_len] 下三角，True 表示要屏蔽（即 mask）\n",
    "        mask = torch.triu(torch.ones(size, size), diagonal=1).bool()\n",
    "        return mask.to(device)\n",
    "\n",
    "    def forward(self, x):\n",
    "        # x: [batch_size, seq_len, input_dim]\n",
    "        batch_size, seq_len, _ = x.shape\n",
    "        device = x.device\n",
    "\n",
    "        x = self.input_fc(x)\n",
    "        x = self.pos_encoder(x)                        # -> [B, T, D]\n",
    "\n",
    "        causal_mask = self.generate_causal_mask(seq_len, device=device)  # [T, T]\n",
    "\n",
    "        memory = self.encoder(x,mask=causal_mask)     # 加因果掩码：仅可看见当前及之前时间步, mask=causal_mask\n",
    "        memory = self.time_attention(memory)\n",
    "\n",
    "        lstm_out, _ = self.lstm(memory)\n",
    "        bottleneck = torch.tanh(self.lstm_to_model_dim(lstm_out))\n",
    "\n",
    "        out = self.decoder(tgt=bottleneck, memory=memory, tgt_mask=causal_mask)\n",
    "        out = self.output_fc(out)\n",
    "        return out\n"
   ]
  },
  {
   "cell_type": "code",
   "execution_count": 5,
   "id": "aea9ce0f-2728-4a7a-97b5-117dac9503d3",
   "metadata": {},
   "outputs": [],
   "source": [
    "# 1. 数据加载与预处理\n",
    "def load_and_preprocess_data(filepath,sequence_length = 10):\n",
    "    \"\"\"加载指定范围的数据并标准化\"\"\"\n",
    "    # 只读取10000-20000行的数据\n",
    "    df = pd.read_csv(filepath, skiprows=range(1, 10000), nrows=10000)\n",
    "    features = ['throttle', 'gps_alt','nav_alt','accel_x', 'vias','gps_vn','gps_ve','anomaly']\n",
    "    for col in features:\n",
    "        if col != 'anomaly':\n",
    "            df[col] = (df[col] - df[col].mean()) / df[col].std()\n",
    "    X = []\n",
    "    for i in range(len(df) - sequence_length + 1):\n",
    "        X.append(df[features].values[i:i + sequence_length])\n",
    "    return np.array(X)"
   ]
  },
  {
   "cell_type": "code",
   "execution_count": 6,
   "id": "a7a1a2e7-5b42-4fb1-a7ec-92ce84394108",
   "metadata": {},
   "outputs": [],
   "source": [
    "SEQ_LENGTH = 30\n",
    "Paths = [r\"代码数据/merged_with_bias_anomaly.csv\",\n",
    "         r\"代码数据/merged_with_drift_anomaly.csv\",\n",
    "         r\"代码数据/merged_with_stuck_anomaly.csv\"]"
   ]
  },
  {
   "cell_type": "code",
   "execution_count": 7,
   "id": "6dc2795a-b5b3-4946-b94f-b996bd599407",
   "metadata": {},
   "outputs": [],
   "source": [
    "# 加载指定范围的数据\n",
    "X = load_and_preprocess_data(Paths[0], sequence_length = SEQ_LENGTH)\n",
    "# 异常数据在17002-18002行，对应读取数据的索引是(17002-10000)到(18002-10000)，即7002-8002\n",
    "labels = np.zeros(len(X))\n",
    "anomaly_start = 8002\n",
    "anomaly_end = 9002\n",
    "labels[8002:9002] = 1\n",
    "# 分离正常样本和异常样本\n",
    "normal_indices = np.where(labels == 0)[0]\n",
    "anomaly_indices = np.where(labels == 1)[0]\n",
    "# 将正常样本分为训练集和测试集的一部分\n",
    "X_normal = X[normal_indices]\n",
    "X_train, X_normal_test = train_test_split(X_normal, test_size=0.3, random_state=42)\n",
    "# 测试集包含所有异常样本和一部分正常样本\n",
    "X_test = np.vstack([X[anomaly_indices], X_normal_test])\n",
    "y_test = np.hstack([np.ones(len(anomaly_indices)), np.zeros(len(X_normal_test))])"
   ]
  },
  {
   "cell_type": "code",
   "execution_count": 8,
   "id": "c2171d71-0e24-453b-a552-ecf87f55c215",
   "metadata": {},
   "outputs": [],
   "source": [
    "def train_model(model, dataloader, num_epochs=20, lr=1e-3):\n",
    "    model.to(device)\n",
    "    criterion = nn.MSELoss()\n",
    "    optimizer = optim.Adam(model.parameters(), lr=lr)\n",
    "    plot_loss = []\n",
    "    for epoch in range(num_epochs):\n",
    "        model.train()\n",
    "        total_loss = 0\n",
    "        for batch in dataloader:\n",
    "            x = batch[0].to(device)\n",
    "            output = model(x)\n",
    "            loss = criterion(output, x)\n",
    "\n",
    "            optimizer.zero_grad()\n",
    "            loss.backward()\n",
    "            optimizer.step()\n",
    "\n",
    "            total_loss += loss.item()\n",
    "        plot_loss.append(total_loss)\n",
    "        print(f\"Epoch {epoch + 1}/{num_epochs}, Loss: {total_loss:.4f}\")\n",
    "    return plot_loss"
   ]
  },
  {
   "cell_type": "code",
   "execution_count": 9,
   "id": "e9311aba-4d3e-41be-8d4b-8f28d73e6f67",
   "metadata": {},
   "outputs": [],
   "source": [
    "# 构建 DataLoader\n",
    "X_train = torch.tensor(X_train,dtype=torch.float32)\n",
    "dataset = TensorDataset(X_train)\n",
    "loader = DataLoader(dataset, batch_size=128, shuffle=False)"
   ]
  },
  {
   "cell_type": "code",
   "execution_count": 10,
   "id": "965501f4-96c9-4ff5-904a-07a4998913dd",
   "metadata": {
    "scrolled": true
   },
   "outputs": [
    {
     "name": "stderr",
     "output_type": "stream",
     "text": [
      "D:\\anaconda\\Lib\\site-packages\\torch\\nn\\modules\\transformer.py:379: UserWarning: enable_nested_tensor is True, but self.use_nested_tensor is False because encoder_layer.self_attn.num_heads is odd\n",
      "  warnings.warn(\n"
     ]
    },
    {
     "name": "stdout",
     "output_type": "stream",
     "text": [
      "Epoch 1/50, Loss: 6.8438\n",
      "Epoch 2/50, Loss: 1.1391\n",
      "Epoch 3/50, Loss: 0.7270\n",
      "Epoch 4/50, Loss: 0.5272\n",
      "Epoch 5/50, Loss: 0.4147\n",
      "Epoch 6/50, Loss: 0.3397\n",
      "Epoch 7/50, Loss: 0.2823\n",
      "Epoch 8/50, Loss: 0.2402\n",
      "Epoch 9/50, Loss: 0.2067\n",
      "Epoch 10/50, Loss: 0.1796\n",
      "Epoch 11/50, Loss: 0.1567\n",
      "Epoch 12/50, Loss: 0.1403\n",
      "Epoch 13/50, Loss: 0.1250\n",
      "Epoch 14/50, Loss: 0.1105\n",
      "Epoch 15/50, Loss: 0.1055\n",
      "Epoch 16/50, Loss: 0.0907\n",
      "Epoch 17/50, Loss: 0.0858\n",
      "Epoch 18/50, Loss: 0.0803\n",
      "Epoch 19/50, Loss: 0.0773\n",
      "Epoch 20/50, Loss: 0.0629\n",
      "Epoch 21/50, Loss: 0.0666\n",
      "Epoch 22/50, Loss: 0.0639\n",
      "Epoch 23/50, Loss: 0.0532\n",
      "Epoch 24/50, Loss: 0.0543\n",
      "Epoch 25/50, Loss: 0.0444\n",
      "Epoch 26/50, Loss: 0.0488\n",
      "Epoch 27/50, Loss: 0.0410\n",
      "Epoch 28/50, Loss: 0.0396\n",
      "Epoch 29/50, Loss: 0.0452\n",
      "Epoch 30/50, Loss: 0.0477\n",
      "Epoch 31/50, Loss: 0.0335\n",
      "Epoch 32/50, Loss: 0.0347\n",
      "Epoch 33/50, Loss: 0.0321\n",
      "Epoch 34/50, Loss: 0.0321\n",
      "Epoch 35/50, Loss: 0.0313\n",
      "Epoch 36/50, Loss: 0.0347\n",
      "Epoch 37/50, Loss: 0.0282\n",
      "Epoch 38/50, Loss: 0.0280\n",
      "Epoch 39/50, Loss: 0.0281\n",
      "Epoch 40/50, Loss: 0.0268\n",
      "Epoch 41/50, Loss: 0.0240\n",
      "Epoch 42/50, Loss: 0.0250\n",
      "Epoch 43/50, Loss: 0.0262\n",
      "Epoch 44/50, Loss: 0.0265\n",
      "Epoch 45/50, Loss: 0.0230\n",
      "Epoch 46/50, Loss: 0.0230\n",
      "Epoch 47/50, Loss: 0.0218\n",
      "Epoch 48/50, Loss: 0.0207\n",
      "Epoch 49/50, Loss: 0.0227\n",
      "Epoch 50/50, Loss: 0.0259\n"
     ]
    }
   ],
   "source": [
    "model = TransformerAutoencoderLSTM(input_dim=8)\n",
    "loss_lst = train_model(model, loader, num_epochs=50)"
   ]
  },
  {
   "cell_type": "code",
   "execution_count": 11,
   "id": "c478466e-7730-4dd6-ba05-6791bbbeb3f6",
   "metadata": {},
   "outputs": [],
   "source": [
    "model.eval()\n",
    "model.to(device)\n",
    "X_train = X_train.to(device)\n",
    "train_recon = model(X_train)\n",
    "\n",
    "recon_train_error = np.sqrt(torch.mean((train_recon - X_train) ** 2, dim=(1, 2)).cpu().detach().numpy())\n",
    "smoothed_train_error = kalman_filter(recon_train_error) \n",
    "threshold = np.mean(smoothed_train_error) + 3*np.std(smoothed_train_error) # 阈值\n",
    "\n",
    "X_test = torch.tensor(X_test,dtype=torch.float32)\n",
    "X_test = X_test.to(device)\n",
    "with torch.no_grad():\n",
    "    recon = model(X_test)\n",
    "recon_error = np.sqrt(torch.mean((recon - X_test) ** 2, dim=(1, 2)).cpu().numpy())\n",
    "smoothed_error = kalman_filter(recon_error)\n",
    "anomaly_preds = (smoothed_error > threshold).astype(int)"
   ]
  },
  {
   "cell_type": "code",
   "execution_count": 12,
   "id": "67dfc2b4-edd3-40f3-8aa3-f8f87875286f",
   "metadata": {},
   "outputs": [],
   "source": [
    "def fpr_from_labels(y_true, y_pred):\n",
    "    \"\"\"\n",
    "    通过真实标签和预测标签计算 FPR\n",
    "    \"\"\"\n",
    "    tn, fp, fn, tp = confusion_matrix(y_true, y_pred).ravel()\n",
    "    if (fp + tn) == 0:\n",
    "        return 0.0\n",
    "    return fp / (fp + tn)"
   ]
  },
  {
   "cell_type": "markdown",
   "id": "51dcb166-7ab3-4661-8cac-1a1100f18162",
   "metadata": {},
   "source": [
    "### Evalution"
   ]
  },
  {
   "cell_type": "code",
   "execution_count": 13,
   "id": "7f8c8d9c-d2f7-4458-bbc1-ac5b3a58435b",
   "metadata": {},
   "outputs": [
    {
     "name": "stdout",
     "output_type": "stream",
     "text": [
      "True Positives: 1000, False Positives: 28\n",
      "True Negatives: 2664, False Negatives: 0\n",
      "False Positive Rate (FPR): 0.0104\n",
      "True Positive Rate (TPR): 1.0000\n",
      "Accuracy (ACC): 0.9924\n",
      "Precision: 0.9728\n",
      "Recall: 1.0000\n",
      "F1 Score: 0.9862\n"
     ]
    }
   ],
   "source": [
    "tn, fp, fn, tp = confusion_matrix(y_test, anomaly_preds).ravel()\n",
    "\n",
    "# 计算评估指标\n",
    "fpr = fpr_from_labels(y_test, anomaly_preds)\n",
    "tpr = tp / (tp + fn) if (tp + fn) > 0 else 0\n",
    "\n",
    "accuracy = accuracy_score(y_test, anomaly_preds)\n",
    "# 计算精确率、召回率和F1分数\n",
    "precision = precision_score(y_test, anomaly_preds, zero_division=0)\n",
    "recall = recall_score(y_test, anomaly_preds, zero_division=0)\n",
    "f1 = f1_score(y_test, anomaly_preds, zero_division=0)\n",
    "\n",
    "print(f\"True Positives: {tp}, False Positives: {fp}\")\n",
    "print(f\"True Negatives: {tn}, False Negatives: {fn}\")\n",
    "print(f\"False Positive Rate (FPR): {fpr:.4f}\")\n",
    "print(f\"True Positive Rate (TPR): {tpr:.4f}\")\n",
    "print(f\"Accuracy (ACC): {accuracy:.4f}\")\n",
    "print(f\"Precision: {precision:.4f}\")\n",
    "print(f\"Recall: {recall:.4f}\")\n",
    "print(f\"F1 Score: {f1:.4f}\")\n"
   ]
  },
  {
   "cell_type": "code",
   "execution_count": 14,
   "id": "0762cec1-8ff9-46bd-94cf-c1bd08a0e7ee",
   "metadata": {},
   "outputs": [
    {
     "data": {
      "text/plain": [
       "[<matplotlib.lines.Line2D at 0x2273b54e2a0>]"
      ]
     },
     "execution_count": 14,
     "metadata": {},
     "output_type": "execute_result"
    },
    {
     "data": {
      "image/png": "[encoded data removed]",
      "text/plain": [
       "<Figure size 640x480 with 1 Axes>"
      ]
     },
     "metadata": {},
     "output_type": "display_data"
    }
   ],
   "source": [
    "plt.plot(recon_error)\n",
    "plt.plot(smoothed_error)\n",
    "plt.plot([threshold for i in range(len(recon_error))])"
   ]
  },
  {
   "cell_type": "markdown",
   "id": "7ada512c-a8c6-4c40-88e3-9375417525ed",
   "metadata": {},
   "source": [
    "### Save"
   ]
  },
  {
   "cell_type": "code",
   "execution_count": 15,
   "id": "98e1e57f-efb0-41c5-b0bd-cc2ffbbba8e9",
   "metadata": {},
   "outputs": [],
   "source": [
    "test_df = pd.DataFrame([y_test,recon_error,smoothed_error,[threshold for i in range(len(recon_error))]])\n",
    "test_df.index=['label','recon_error','smoothed_error','threshold']\n",
    "file_path = 'plot_dataset_' + Paths[0][17:-12] + '.csv'\n",
    "test_df.to_csv(file_path,index=True)"
   ]
  },
  {
   "cell_type": "code",
   "execution_count": 16,
   "id": "12933ce5-6855-49d9-803b-bee239504729",
   "metadata": {},
   "outputs": [],
   "source": [
    "# losss = pd.DataFrame(loss_lst)\n",
    "# losss.to_csv('losss.csv')"
   ]
  },
  {
   "cell_type": "code",
   "execution_count": 17,
   "id": "6757afe3-0787-44e9-aa9a-339d7b2e7bdc",
   "metadata": {},
   "outputs": [],
   "source": [
    "# torch.save(model,\"model.pt\")"
   ]
  }
 ],
 "metadata": {
  "kernelspec": {
   "display_name": "Python 3 (ipykernel)",
   "language": "python",
   "name": "python3"
  },
  "language_info": {
   "codemirror_mode": {
    "name": "ipython",
    "version": 3
   },
   "file_extension": ".py",
   "mimetype": "text/x-python",
   "name": "python",
   "nbconvert_exporter": "python",
   "pygments_lexer": "ipython3",
   "version": "3.12.7"
  }
 },
 "nbformat": 4,
 "nbformat_minor": 5
}
